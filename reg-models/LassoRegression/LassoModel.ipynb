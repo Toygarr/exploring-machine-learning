{
 "cells": [
  {
   "cell_type": "markdown",
   "metadata": {},
   "source": [
    "**LASSO MODEL**"
   ]
  },
  {
   "cell_type": "code",
   "execution_count": 1,
   "metadata": {},
   "outputs": [],
   "source": [
    "import numpy as np\n",
    "import pandas as pd\n",
    "from sklearn.linear_model import Ridge, Lasso\n",
    "from sklearn.metrics import mean_squared_error, r2_score\n",
    "from sklearn.model_selection import train_test_split\n",
    "import matplotlib.pyplot as plt\n",
    "from sklearn.linear_model import RidgeCV, LassoCV"
   ]
  },
  {
   "cell_type": "code",
   "execution_count": 2,
   "metadata": {},
   "outputs": [],
   "source": [
    "df = pd.read_csv(\"C:/Users\\monster\\Desktop\\Regresyon Modelleri\\RidgeRegression\\Hitters.csv\")\n",
    "df = df.dropna()\n",
    "dms = pd.get_dummies(df[['League', 'Division', 'NewLeague']])\n",
    "y = df[\"Salary\"]\n",
    "X_ = df.drop([\"Salary\", \"League\", \"Division\", \"NewLeague\"], axis = 1).astype(\"float64\")\n",
    "X = pd.concat([X_, dms[[\"League_N\", \"Division_W\", \"NewLeague_N\"]]], axis = 1)\n",
    "\n",
    "X_train, X_test, y_train, y_test = train_test_split(X, y, test_size = 0.25, random_state = 42)\n"
   ]
  },
  {
   "cell_type": "code",
   "execution_count": 3,
   "metadata": {
    "collapsed": true,
    "jupyter": {
     "outputs_hidden": true
    }
   },
   "outputs": [
    {
     "name": "stderr",
     "output_type": "stream",
     "text": [
      "C:\\Users\\monster\\anaconda3\\lib\\site-packages\\sklearn\\linear_model\\_coordinate_descent.py:529: ConvergenceWarning: Objective did not converge. You might want to increase the number of iterations. Duality gap: 8256653.399850385, tolerance: 3898.686956380658\n",
      "  model = cd_fast.enet_coordinate_descent(\n"
     ]
    }
   ],
   "source": [
    "lasso_model = Lasso().fit(X_train, y_train)"
   ]
  },
  {
   "cell_type": "code",
   "execution_count": 5,
   "metadata": {},
   "outputs": [
    {
     "data": {
      "text/plain": [
       "-5.587450677336733"
      ]
     },
     "execution_count": 5,
     "metadata": {},
     "output_type": "execute_result"
    }
   ],
   "source": [
    "lasso_model.intercept_"
   ]
  },
  {
   "cell_type": "code",
   "execution_count": 6,
   "metadata": {},
   "outputs": [
    {
     "data": {
      "text/plain": [
       "array([-1.74875691e+00,  8.59204135e+00,  6.67993798e+00, -3.06715333e+00,\n",
       "       -1.91843070e+00,  5.32372890e+00,  8.39184117e+00, -1.63172447e-01,\n",
       "       -8.22311277e-02, -3.93602861e-01,  1.71118530e+00,  6.55730545e-01,\n",
       "       -6.48379405e-01,  2.59815358e-01,  2.73041157e-01, -4.41440454e-01,\n",
       "        8.54474011e+01, -9.59701213e+01, -2.13086605e+01])"
      ]
     },
     "execution_count": 6,
     "metadata": {},
     "output_type": "execute_result"
    }
   ],
   "source": [
    "lasso_model.coef_"
   ]
  },
  {
   "cell_type": "code",
   "execution_count": 14,
   "metadata": {
    "collapsed": true,
    "jupyter": {
     "outputs_hidden": true
    }
   },
   "outputs": [
    {
     "name": "stderr",
     "output_type": "stream",
     "text": [
      "C:\\Users\\monster\\anaconda3\\lib\\site-packages\\sklearn\\linear_model\\_coordinate_descent.py:529: ConvergenceWarning: Objective did not converge. You might want to increase the number of iterations. Duality gap: 5469.558741401881, tolerance: 3898.686956380658\n",
      "  model = cd_fast.enet_coordinate_descent(\n",
      "C:\\Users\\monster\\anaconda3\\lib\\site-packages\\sklearn\\linear_model\\_coordinate_descent.py:529: ConvergenceWarning: Objective did not converge. You might want to increase the number of iterations. Duality gap: 6540.147679608315, tolerance: 3898.686956380658\n",
      "  model = cd_fast.enet_coordinate_descent(\n",
      "C:\\Users\\monster\\anaconda3\\lib\\site-packages\\sklearn\\linear_model\\_coordinate_descent.py:529: ConvergenceWarning: Objective did not converge. You might want to increase the number of iterations. Duality gap: 4001.756137549877, tolerance: 3898.686956380658\n",
      "  model = cd_fast.enet_coordinate_descent(\n",
      "C:\\Users\\monster\\anaconda3\\lib\\site-packages\\sklearn\\linear_model\\_coordinate_descent.py:529: ConvergenceWarning: Objective did not converge. You might want to increase the number of iterations. Duality gap: 5357.774935673922, tolerance: 3898.686956380658\n",
      "  model = cd_fast.enet_coordinate_descent(\n",
      "C:\\Users\\monster\\anaconda3\\lib\\site-packages\\sklearn\\linear_model\\_coordinate_descent.py:529: ConvergenceWarning: Objective did not converge. You might want to increase the number of iterations. Duality gap: 5543.6113204211, tolerance: 3898.686956380658\n",
      "  model = cd_fast.enet_coordinate_descent(\n",
      "C:\\Users\\monster\\anaconda3\\lib\\site-packages\\sklearn\\linear_model\\_coordinate_descent.py:529: ConvergenceWarning: Objective did not converge. You might want to increase the number of iterations. Duality gap: 38977.90211515501, tolerance: 3898.686956380658\n",
      "  model = cd_fast.enet_coordinate_descent(\n",
      "C:\\Users\\monster\\anaconda3\\lib\\site-packages\\sklearn\\linear_model\\_coordinate_descent.py:529: ConvergenceWarning: Objective did not converge. You might want to increase the number of iterations. Duality gap: 4436895.415747522, tolerance: 3898.686956380658\n",
      "  model = cd_fast.enet_coordinate_descent(\n",
      "C:\\Users\\monster\\anaconda3\\lib\\site-packages\\sklearn\\linear_model\\_coordinate_descent.py:529: ConvergenceWarning: Objective did not converge. You might want to increase the number of iterations. Duality gap: 6555245.313879695, tolerance: 3898.686956380658\n",
      "  model = cd_fast.enet_coordinate_descent(\n",
      "C:\\Users\\monster\\anaconda3\\lib\\site-packages\\sklearn\\linear_model\\_coordinate_descent.py:529: ConvergenceWarning: Objective did not converge. You might want to increase the number of iterations. Duality gap: 7517635.389993103, tolerance: 3898.686956380658\n",
      "  model = cd_fast.enet_coordinate_descent(\n",
      "C:\\Users\\monster\\anaconda3\\lib\\site-packages\\sklearn\\linear_model\\_coordinate_descent.py:529: ConvergenceWarning: Objective did not converge. You might want to increase the number of iterations. Duality gap: 7913116.552938742, tolerance: 3898.686956380658\n",
      "  model = cd_fast.enet_coordinate_descent(\n",
      "C:\\Users\\monster\\anaconda3\\lib\\site-packages\\sklearn\\linear_model\\_coordinate_descent.py:529: ConvergenceWarning: Objective did not converge. You might want to increase the number of iterations. Duality gap: 8063057.666015335, tolerance: 3898.686956380658\n",
      "  model = cd_fast.enet_coordinate_descent(\n",
      "C:\\Users\\monster\\anaconda3\\lib\\site-packages\\sklearn\\linear_model\\_coordinate_descent.py:529: ConvergenceWarning: Objective did not converge. You might want to increase the number of iterations. Duality gap: 8147851.972007778, tolerance: 3898.686956380658\n",
      "  model = cd_fast.enet_coordinate_descent(\n",
      "C:\\Users\\monster\\anaconda3\\lib\\site-packages\\sklearn\\linear_model\\_coordinate_descent.py:529: ConvergenceWarning: Objective did not converge. You might want to increase the number of iterations. Duality gap: 8195503.925140666, tolerance: 3898.686956380658\n",
      "  model = cd_fast.enet_coordinate_descent(\n",
      "C:\\Users\\monster\\anaconda3\\lib\\site-packages\\sklearn\\linear_model\\_coordinate_descent.py:529: ConvergenceWarning: Objective did not converge. You might want to increase the number of iterations. Duality gap: 8222772.970408568, tolerance: 3898.686956380658\n",
      "  model = cd_fast.enet_coordinate_descent(\n",
      "C:\\Users\\monster\\anaconda3\\lib\\site-packages\\sklearn\\linear_model\\_coordinate_descent.py:529: ConvergenceWarning: Objective did not converge. You might want to increase the number of iterations. Duality gap: 8238618.061152168, tolerance: 3898.686956380658\n",
      "  model = cd_fast.enet_coordinate_descent(\n",
      "C:\\Users\\monster\\anaconda3\\lib\\site-packages\\sklearn\\linear_model\\_coordinate_descent.py:529: ConvergenceWarning: Objective did not converge. You might want to increase the number of iterations. Duality gap: 8247931.056261463, tolerance: 3898.686956380658\n",
      "  model = cd_fast.enet_coordinate_descent(\n",
      "C:\\Users\\monster\\anaconda3\\lib\\site-packages\\sklearn\\linear_model\\_coordinate_descent.py:529: ConvergenceWarning: Objective did not converge. You might want to increase the number of iterations. Duality gap: 8254112.783082829, tolerance: 3898.686956380658\n",
      "  model = cd_fast.enet_coordinate_descent(\n",
      "C:\\Users\\monster\\anaconda3\\lib\\site-packages\\sklearn\\linear_model\\_coordinate_descent.py:529: ConvergenceWarning: Objective did not converge. You might want to increase the number of iterations. Duality gap: 8256643.474169186, tolerance: 3898.686956380658\n",
      "  model = cd_fast.enet_coordinate_descent(\n",
      "C:\\Users\\monster\\anaconda3\\lib\\site-packages\\sklearn\\linear_model\\_coordinate_descent.py:529: ConvergenceWarning: Objective did not converge. You might want to increase the number of iterations. Duality gap: 8256663.517485485, tolerance: 3898.686956380658\n",
      "  model = cd_fast.enet_coordinate_descent(\n",
      "C:\\Users\\monster\\anaconda3\\lib\\site-packages\\sklearn\\linear_model\\_coordinate_descent.py:529: ConvergenceWarning: Objective did not converge. You might want to increase the number of iterations. Duality gap: 8255732.40629581, tolerance: 3898.686956380658\n",
      "  model = cd_fast.enet_coordinate_descent(\n",
      "C:\\Users\\monster\\anaconda3\\lib\\site-packages\\sklearn\\linear_model\\_coordinate_descent.py:529: ConvergenceWarning: Objective did not converge. You might want to increase the number of iterations. Duality gap: 8254488.032216554, tolerance: 3898.686956380658\n",
      "  model = cd_fast.enet_coordinate_descent(\n",
      "C:\\Users\\monster\\anaconda3\\lib\\site-packages\\sklearn\\linear_model\\_coordinate_descent.py:529: ConvergenceWarning: Objective did not converge. You might want to increase the number of iterations. Duality gap: 8253238.172401889, tolerance: 3898.686956380658\n",
      "  model = cd_fast.enet_coordinate_descent(\n",
      "C:\\Users\\monster\\anaconda3\\lib\\site-packages\\sklearn\\linear_model\\_coordinate_descent.py:529: ConvergenceWarning: Objective did not converge. You might want to increase the number of iterations. Duality gap: 8252116.626715349, tolerance: 3898.686956380658\n",
      "  model = cd_fast.enet_coordinate_descent(\n",
      "C:\\Users\\monster\\anaconda3\\lib\\site-packages\\sklearn\\linear_model\\_coordinate_descent.py:529: ConvergenceWarning: Objective did not converge. You might want to increase the number of iterations. Duality gap: 8251167.599148526, tolerance: 3898.686956380658\n",
      "  model = cd_fast.enet_coordinate_descent(\n",
      "C:\\Users\\monster\\anaconda3\\lib\\site-packages\\sklearn\\linear_model\\_coordinate_descent.py:529: ConvergenceWarning: Objective did not converge. You might want to increase the number of iterations. Duality gap: 8250392.2264994085, tolerance: 3898.686956380658\n",
      "  model = cd_fast.enet_coordinate_descent(\n",
      "C:\\Users\\monster\\anaconda3\\lib\\site-packages\\sklearn\\linear_model\\_coordinate_descent.py:529: ConvergenceWarning: Objective did not converge. You might want to increase the number of iterations. Duality gap: 8249772.8059432665, tolerance: 3898.686956380658\n",
      "  model = cd_fast.enet_coordinate_descent(\n",
      "C:\\Users\\monster\\anaconda3\\lib\\site-packages\\sklearn\\linear_model\\_coordinate_descent.py:529: ConvergenceWarning: Objective did not converge. You might want to increase the number of iterations. Duality gap: 8249285.457095968, tolerance: 3898.686956380658\n",
      "  model = cd_fast.enet_coordinate_descent(\n",
      "C:\\Users\\monster\\anaconda3\\lib\\site-packages\\sklearn\\linear_model\\_coordinate_descent.py:529: ConvergenceWarning: Objective did not converge. You might want to increase the number of iterations. Duality gap: 8248906.058581405, tolerance: 3898.686956380658\n",
      "  model = cd_fast.enet_coordinate_descent(\n",
      "C:\\Users\\monster\\anaconda3\\lib\\site-packages\\sklearn\\linear_model\\_coordinate_descent.py:529: ConvergenceWarning: Objective did not converge. You might want to increase the number of iterations. Duality gap: 8248612.895174979, tolerance: 3898.686956380658\n",
      "  model = cd_fast.enet_coordinate_descent(\n",
      "C:\\Users\\monster\\anaconda3\\lib\\site-packages\\sklearn\\linear_model\\_coordinate_descent.py:529: ConvergenceWarning: Objective did not converge. You might want to increase the number of iterations. Duality gap: 8248387.613746928, tolerance: 3898.686956380658\n",
      "  model = cd_fast.enet_coordinate_descent(\n",
      "C:\\Users\\monster\\anaconda3\\lib\\site-packages\\sklearn\\linear_model\\_coordinate_descent.py:529: ConvergenceWarning: Objective did not converge. You might want to increase the number of iterations. Duality gap: 8248215.191106157, tolerance: 3898.686956380658\n",
      "  model = cd_fast.enet_coordinate_descent(\n",
      "C:\\Users\\monster\\anaconda3\\lib\\site-packages\\sklearn\\linear_model\\_coordinate_descent.py:529: ConvergenceWarning: Objective did not converge. You might want to increase the number of iterations. Duality gap: 8248083.606041499, tolerance: 3898.686956380658\n",
      "  model = cd_fast.enet_coordinate_descent(\n",
      "C:\\Users\\monster\\anaconda3\\lib\\site-packages\\sklearn\\linear_model\\_coordinate_descent.py:529: ConvergenceWarning: Objective did not converge. You might want to increase the number of iterations. Duality gap: 8247983.409284971, tolerance: 3898.686956380658\n",
      "  model = cd_fast.enet_coordinate_descent(\n",
      "C:\\Users\\monster\\anaconda3\\lib\\site-packages\\sklearn\\linear_model\\_coordinate_descent.py:529: ConvergenceWarning: Objective did not converge. You might want to increase the number of iterations. Duality gap: 8247907.234834598, tolerance: 3898.686956380658\n",
      "  model = cd_fast.enet_coordinate_descent(\n",
      "C:\\Users\\monster\\anaconda3\\lib\\site-packages\\sklearn\\linear_model\\_coordinate_descent.py:529: ConvergenceWarning: Objective did not converge. You might want to increase the number of iterations. Duality gap: 8247849.397090814, tolerance: 3898.686956380658\n",
      "  model = cd_fast.enet_coordinate_descent(\n",
      "C:\\Users\\monster\\anaconda3\\lib\\site-packages\\sklearn\\linear_model\\_coordinate_descent.py:529: ConvergenceWarning: Objective did not converge. You might want to increase the number of iterations. Duality gap: 8247805.522216806, tolerance: 3898.686956380658\n",
      "  model = cd_fast.enet_coordinate_descent(\n",
      "C:\\Users\\monster\\anaconda3\\lib\\site-packages\\sklearn\\linear_model\\_coordinate_descent.py:529: ConvergenceWarning: Objective did not converge. You might want to increase the number of iterations. Duality gap: 8247772.261812302, tolerance: 3898.686956380658\n",
      "  model = cd_fast.enet_coordinate_descent(\n",
      "C:\\Users\\monster\\anaconda3\\lib\\site-packages\\sklearn\\linear_model\\_coordinate_descent.py:529: ConvergenceWarning: Objective did not converge. You might want to increase the number of iterations. Duality gap: 8247747.060921359, tolerance: 3898.686956380658\n",
      "  model = cd_fast.enet_coordinate_descent(\n"
     ]
    }
   ],
   "source": [
    "#coefficients for different lambda values\n",
    "lasso = Lasso()\n",
    "coefs = []\n",
    "alphas = 10**np.linspace(10,-2,100)*0.5\n",
    "\n",
    "for a in alphas:\n",
    "    lasso.set_params(alpha = a)\n",
    "    lasso.fit(X_train, y_train)\n",
    "    coefs.append(lasso.coef_)"
   ]
  },
  {
   "cell_type": "code",
   "execution_count": 15,
   "metadata": {},
   "outputs": [
    {
     "data": {
      "image/png": "[encoded data removed]",
      "text/plain": [
       "<Figure size 432x288 with 1 Axes>"
      ]
     },
     "metadata": {
      "needs_background": "light"
     },
     "output_type": "display_data"
    }
   ],
   "source": [
    "ax = plt.gca()\n",
    "ax.plot(alphas, coefs)\n",
    "ax.set_xscale(\"log\")"
   ]
  },
  {
   "cell_type": "code",
   "execution_count": null,
   "metadata": {},
   "outputs": [],
   "source": []
  },
  {
   "cell_type": "code",
   "execution_count": null,
   "metadata": {},
   "outputs": [],
   "source": []
  }
 ],
 "metadata": {
  "kernelspec": {
   "display_name": "Python 3",
   "language": "python",
   "name": "python3"
  },
  "language_info": {
   "codemirror_mode": {
    "name": "ipython",
    "version": 3
   },
   "file_extension": ".py",
   "mimetype": "text/x-python",
   "name": "python",
   "nbconvert_exporter": "python",
   "pygments_lexer": "ipython3",
   "version": "3.8.3"
  }
 },
 "nbformat": 4,
 "nbformat_minor": 4
}
