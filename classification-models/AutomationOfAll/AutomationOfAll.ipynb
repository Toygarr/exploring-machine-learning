{
 "cells": [
  {
   "cell_type": "code",
   "execution_count": 1,
   "metadata": {},
   "outputs": [],
   "source": [
    "import numpy as np\n",
    "import pandas as pd\n",
    "import statsmodels.api as sm\n",
    "from sklearn.metrics import mean_squared_error, r2_score, confusion_matrix, accuracy_score, roc_auc_score, roc_curve, classification_report\n",
    "import matplotlib.pyplot as plt\n",
    "from sklearn.preprocessing import scale\n",
    "from sklearn.preprocessing import StandardScaler\n",
    "from sklearn.model_selection import train_test_split, GridSearchCV, cross_val_score\n",
    "from sklearn.ensemble import GradientBoostingClassifier\n",
    "from sklearn.linear_model import LogisticRegression\n",
    "from sklearn.neural_network import MLPClassifier\n",
    "from sklearn.tree import DecisionTreeClassifier\n",
    "from sklearn.neighbors import KNeighborsClassifier\n",
    "from sklearn.svm import SVC\n",
    "from sklearn.ensemble import RandomForestClassifier\n",
    "from catboost import CatBoostClassifier\n",
    "from xgboost import XGBClassifier"
   ]
  },
  {
   "cell_type": "code",
   "execution_count": 2,
   "metadata": {},
   "outputs": [],
   "source": [
    "from warnings import filterwarnings\n",
    "filterwarnings('ignore')"
   ]
  },
  {
   "cell_type": "code",
   "execution_count": 5,
   "metadata": {},
   "outputs": [],
   "source": [
    "df = pd.read_csv(\".\\diabetes.csv\")"
   ]
  },
  {
   "cell_type": "code",
   "execution_count": 101,
   "metadata": {},
   "outputs": [],
   "source": [
    "def comp_cls(df, y, alg):\n",
    "    y = df[y]\n",
    "    X = df.drop([\"Outcome\"], axis = 1)\n",
    "    result = []\n",
    "    results = pd.DataFrame(columns = [\"Models\", \"Accuracy\"])\n",
    "    \n",
    "    X_train, X_test, y_train, y_test = train_test_split(X, y, test_size = 0.25, random_state = 42)\n",
    "    \n",
    "    if alg == MLPClassifier :\n",
    "        scaler = StandardScaler()\n",
    "        scaler.fit(X_train)\n",
    "        X_train = scaler.transform(X_train)\n",
    "        \n",
    "        scaler.fit(X_test)\n",
    "        X_test = scaler.transform(X_test)\n",
    "        \n",
    "        model = MLPClassifier(activation = \"logistic\", solver = \"lbfgs\").fit(X_train, y_train)\n",
    "    \n",
    "    else :\n",
    "        model = alg().fit(X_train, y_train)\n",
    "        \n",
    "    y_pred = model.predict(X_test)\n",
    "    accuracy = accuracy_score(y_test, y_pred)\n",
    "    model_name = alg.__name__\n",
    "    result = pd.DataFrame([[model_name, accuracy*100]], columns = [\"Models\", \"Accuracy\"])\n",
    "    results = results.append(result)\n",
    "    \n",
    "    print(\"Accuracy of\", model_name, \":\", accuracy_score(y_test, y_pred))"
   ]
  },
  {
   "cell_type": "code",
   "execution_count": 102,
   "metadata": {},
   "outputs": [],
   "source": [
    "models = [LogisticRegression, GradientBoostingClassifier, MLPClassifier, DecisionTreeClassifier,\n",
    "         KNeighborsClassifier, SVC, RandomForestClassifier, XGBClassifier]"
   ]
  },
  {
   "cell_type": "code",
   "execution_count": 103,
   "metadata": {},
   "outputs": [
    {
     "name": "stdout",
     "output_type": "stream",
     "text": [
      "Accuracy of LogisticRegression : 0.7291666666666666\n",
      "Accuracy of GradientBoostingClassifier : 0.75\n",
      "Accuracy of MLPClassifier : 0.671875\n",
      "Accuracy of DecisionTreeClassifier : 0.6927083333333334\n",
      "Accuracy of KNeighborsClassifier : 0.65625\n",
      "Accuracy of SVC : 0.7291666666666666\n",
      "Accuracy of RandomForestClassifier : 0.7447916666666666\n",
      "Accuracy of XGBClassifier : 0.75\n"
     ]
    }
   ],
   "source": [
    "for model in models:\n",
    "    comp_cls(df, \"Outcome\", model)\n"
   ]
  }
 ],
 "metadata": {
  "kernelspec": {
   "display_name": "Python 3",
   "language": "python",
   "name": "python3"
  },
  "language_info": {
   "codemirror_mode": {
    "name": "ipython",
    "version": 3
   },
   "file_extension": ".py",
   "mimetype": "text/x-python",
   "name": "python",
   "nbconvert_exporter": "python",
   "pygments_lexer": "ipython3",
   "version": "3.8.3"
  }
 },
 "nbformat": 4,
 "nbformat_minor": 4
}
