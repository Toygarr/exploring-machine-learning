{
 "cells": [
  {
   "cell_type": "markdown",
   "metadata": {},
   "source": [
    "*#\n",
    "Automating machine learning tasks \n",
    "#*"
   ]
  },
  {
   "cell_type": "code",
   "execution_count": 15,
   "metadata": {},
   "outputs": [],
   "source": [
    "import numpy as np\n",
    "import pandas as pd\n",
    "from sklearn.metrics import mean_squared_error, r2_score\n",
    "import matplotlib.pyplot as plt\n",
    "from sklearn.preprocessing import scale\n",
    "from sklearn.preprocessing import StandardScaler\n",
    "from sklearn import model_selection\n",
    "from sklearn.model_selection import train_test_split, GridSearchCV\n",
    "from sklearn.ensemble import GradientBoostingRegressor\n",
    "import xgboost\n",
    "from xgboost import XGBRegressor\n",
    "from catboost import CatBoostRegressor\n",
    "from sklearn.neural_network import MLPRegressor\n",
    "from sklearn.tree import DecisionTreeRegressor\n",
    "from sklearn.neighbors import KNeighborsRegressor\n",
    "from sklearn import neighbors\n",
    "from sklearn.svm import SVR\n",
    "from lightgbm import LGBMRegressor\n",
    "from sklearn.ensemble import RandomForestRegressor"
   ]
  },
  {
   "cell_type": "code",
   "execution_count": 16,
   "metadata": {},
   "outputs": [],
   "source": [
    "from warnings import filterwarnings\n",
    "filterwarnings('ignore')"
   ]
  },
  {
   "cell_type": "code",
   "execution_count": 17,
   "metadata": {},
   "outputs": [],
   "source": [
    "df = pd.read_csv(\"C:/Users\\monster\\Desktop/NonLinearRegressionModels\\RandomForest\\Hitters.csv\")\n",
    "df = df.dropna()\n",
    "dms = pd.get_dummies(df[['League', 'Division', 'NewLeague']])"
   ]
  },
  {
   "cell_type": "code",
   "execution_count": 38,
   "metadata": {},
   "outputs": [],
   "source": [
    "#FUNCTION VERSION 1 \n",
    "def compML(df, y, alg):\n",
    "    #train-test difference\n",
    "    #y = dependent variable\n",
    "    y = df[y]\n",
    "    X_ = df.drop([\"Salary\", \"League\", \"Division\", \"NewLeague\"], axis = 1).astype(\"float64\")\n",
    "    X = pd.concat([X_, dms[[\"League_N\", \"Division_W\", \"NewLeague_N\"]]], axis = 1)\n",
    "\n",
    "    X_train, X_test, y_train, y_test = train_test_split(X, y, test_size = 0.25, random_state = 42)\n",
    "    \n",
    "    #Modelling\n",
    "    model = alg().fit(X_train, y_train)\n",
    "    y_pred = model.predict(X_test)\n",
    "    RMSE = np.sqrt(mean_squared_error(y_test, y_pred))\n",
    "    model_name = alg.__name__\n",
    "    print(\"RMSE of\", model_name, \":\", RMSE)\n",
    " "
   ]
  },
  {
   "cell_type": "code",
   "execution_count": 39,
   "metadata": {},
   "outputs": [
    {
     "name": "stdout",
     "output_type": "stream",
     "text": [
      "RMSE of LGBMRegressor : 363.8712087611089\n"
     ]
    }
   ],
   "source": [
    "compML(df, \"Salary\", LGBMRegressor)"
   ]
  },
  {
   "cell_type": "code",
   "execution_count": 40,
   "metadata": {},
   "outputs": [
    {
     "name": "stdout",
     "output_type": "stream",
     "text": [
      "RMSE of SVR : 460.0032657244849\n"
     ]
    }
   ],
   "source": [
    "compML(df, \"Salary\", SVR)"
   ]
  },
  {
   "cell_type": "code",
   "execution_count": 41,
   "metadata": {},
   "outputs": [],
   "source": [
    "models = [LGBMRegressor, SVR,  MLPRegressor, GradientBoostingRegressor,\n",
    "         RandomForestRegressor, DecisionTreeRegressor, KNeighborsRegressor,\n",
    "         XGBRegressor]"
   ]
  },
  {
   "cell_type": "code",
   "execution_count": 43,
   "metadata": {},
   "outputs": [
    {
     "name": "stdout",
     "output_type": "stream",
     "text": [
      "RMSE of LGBMRegressor : 363.8712087611089\n",
      "RMSE of SVR : 460.0032657244849\n",
      "RMSE of MLPRegressor : 361.89267792686024\n",
      "RMSE of GradientBoostingRegressor : 353.01969943724004\n",
      "RMSE of RandomForestRegressor : 343.9323083416442\n",
      "RMSE of DecisionTreeRegressor : 531.6454090735382\n",
      "RMSE of KNeighborsRegressor : 426.6570764525201\n",
      "RMSE of XGBRegressor : 355.4651481224188\n"
     ]
    }
   ],
   "source": [
    "for i in models:\n",
    "    compML(df, \"Salary\", i)"
   ]
  }
 ],
 "metadata": {
  "kernelspec": {
   "display_name": "Python 3",
   "language": "python",
   "name": "python3"
  },
  "language_info": {
   "codemirror_mode": {
    "name": "ipython",
    "version": 3
   },
   "file_extension": ".py",
   "mimetype": "text/x-python",
   "name": "python",
   "nbconvert_exporter": "python",
   "pygments_lexer": "ipython3",
   "version": "3.8.3"
  }
 },
 "nbformat": 4,
 "nbformat_minor": 4
}
